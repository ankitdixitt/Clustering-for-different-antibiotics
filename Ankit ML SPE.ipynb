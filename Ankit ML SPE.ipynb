{
 "cells": [
  {
   "cell_type": "code",
   "execution_count": 5,
   "id": "7049f854",
   "metadata": {},
   "outputs": [],
   "source": [
    "#Importing Libraries\n",
    "\n",
    "import fcsparser as fcsp\n",
    "import re\n",
    "import os\n",
    "import time\n",
    "import pandas as pd\n",
    "import numpy as np\n",
    "import seaborn as sns\n",
    "import matplotlib.pyplot as plt\n",
    "from sklearn import svm\n",
    "from sklearn.svm import SVC, SVR\n",
    "from sklearn.ensemble import RandomForestClassifier, RandomForestRegressor, GradientBoostingClassifier\n",
    "from sklearn.preprocessing import StandardScaler, normalize, LabelEncoder, MinMaxScaler\n",
    "from sklearn.model_selection import StratifiedKFold, GridSearchCV, ParameterGrid, train_test_split, RepeatedStratifiedKFold\n",
    "from sklearn.naive_bayes import GaussianNB\n",
    "from sklearn.model_selection import cross_val_score\n",
    "from sklearn.linear_model import LogisticRegression, Lasso\n",
    "from sklearn.gaussian_process import GaussianProcessClassifier\n",
    "from sklearn.gaussian_process.kernels import RBF\n",
    "from sklearn.cluster import KMeans\n",
    "from sklearn.metrics import f1_score, accuracy_score, mean_squared_error, confusion_matrix\n",
    "from sklearn.decomposition import PCA\n",
    "\n",
    "\n",
    "import random\n",
    "\n",
    "# Ignore warnings\n",
    "import warnings\n",
    "warnings.filterwarnings('ignore')\n",
    "\n",
    "%matplotlib inline"
   ]
  },
  {
   "cell_type": "code",
   "execution_count": 24,
   "id": "41d49a0f",
   "metadata": {},
   "outputs": [
    {
     "name": "stdout",
     "output_type": "stream",
     "text": [
      "---- loading data ---->\n"
     ]
    }
   ],
   "source": [
    "# Importing data\n",
    "\n",
    "def load_data(dir):\n",
    "    print('---- loading data ---->')\n",
    "    data = {}\n",
    "    for dirname, _, filename in os.walk(dir):\n",
    "        for file in filename:\n",
    "            path = os.path.join(dirname, file)\n",
    "            # Slicing in order to remove .fcs from filename\n",
    "            f_name = ''.join(list(file)[:-4])\n",
    "            data[f_name] = pd.DataFrame(fcsp.parse(path, meta_data_only=False, reformat_meta=True)[1])\n",
    "    return data, fcsp.parse(path, meta_data_only=False, reformat_meta=True)[0]['_channels_']\n",
    " \n",
    "\n",
    "'''\n",
    "for dirname, _, filename in os.walk(HERE):\n",
    "    for file in filename:\n",
    "      path = os.path.join()\n",
    "        meta = fcsparser.parse(, meta_data_only=True, reformat_meta=True)\n",
    "'''\n",
    "\n",
    "def prepData(x,scaler=None):\n",
    "        \"\"\"\n",
    "        Normalize data\n",
    "        \"\"\"\n",
    "        if not scaler:\n",
    "                scaler = StandardScaler().fit(x)\n",
    "        x_transformed= np.nan_to_num(np.array(scaler.transform(x)))\n",
    "        return normalize(x_transformed),scaler\n",
    "\n",
    "# Loading fcs file data into a dictionary\n",
    "global path\n",
    "\n",
    "dir = os.path.abspath(os.path.dirname('C:\\\\Users\\\\ankit\\\\Downloads\\\\FCM Data\\\\FCM Data For Kartik - Copy\\nc\\\\IND0_1'))\n",
    "dir = os.path.join(dir, 'C:\\\\Users\\\\ankit\\\\Downloads\\\\FCM Data\\\\FCM Data For Kartik - Copy\\\\IND 0')\n",
    "data, channels = load_data(dir)\n",
    "\n",
    "# Function to return list of different taken samples\n",
    "def sample_list(det = data):\n",
    "    return set([sample[0:3] for sample in det.keys()])\n",
    "\n",
    "\n",
    "# Function to check the dimensions of our fcs files\n",
    "def checkDimensions(data, dimensions):\n",
    "    for sample in data:\n",
    "        if data[sample].shape != dimensions: print(sample, data[sample].shape)\n",
    "    return \n",
    "\n"
   ]
  },
  {
   "cell_type": "code",
   "execution_count": 25,
   "id": "1033d0c6",
   "metadata": {},
   "outputs": [
    {
     "data": {
      "text/plain": [
       "{'IND0_1':             FSC-A  FSC-H        SSC-A      FITC-A        PE-A    PE-Cy5-A  \\\n",
       " 0      650.400024  774.0  1487.969971  116.820000  -51.480000  216.809998   \n",
       " 1      368.800018  734.0   400.950012  -83.160004  556.380005   20.790001   \n",
       " 2      204.800003  755.0   427.679993  130.680008 -134.639999    4.950000   \n",
       " 3      496.800018  910.0   699.929993  347.489990 -103.950005  -15.840000   \n",
       " 4      237.600006  803.0   467.279999   68.309998 -214.830002    0.990000   \n",
       " ...           ...    ...          ...         ...         ...         ...   \n",
       " 99995  231.199997  780.0   500.940002  -71.279999   10.890000  -35.639999   \n",
       " 99996  620.000000  759.0   667.260010 -155.430008  675.179993  -32.670002   \n",
       " 99997  508.800018  848.0   837.539978  146.520004  257.399994  -23.760000   \n",
       " 99998  199.199997  775.0   418.769989   17.820000 -128.699997  -73.260002   \n",
       " 99999  324.800018  722.0   723.690002  -44.549999  323.730011  -57.420002   \n",
       " \n",
       "          PE-Cy7-A       APC-A   APC-Cy7-A  Pacific Blue-A    AmCyan-A  \\\n",
       " 0      136.619995 -287.200012   46.400002     1276.390015  537.369995   \n",
       " 1      171.270004  -54.400002  -96.800003     -104.639999  103.550003   \n",
       " 2       -6.930000  -83.200005  -57.600002      -97.010002   56.680000   \n",
       " 3       75.239998  -31.200001  -21.600000     -107.910004   18.530001   \n",
       " 4      -17.820000  301.600006  -87.200005       59.950001   88.290001   \n",
       " ...           ...         ...         ...             ...         ...   \n",
       " 99995   -3.960000 -352.800018  -53.600002       50.140003   38.150002   \n",
       " 99996  -26.730000   -2.400000  -39.200001       32.700001  -33.790001   \n",
       " 99997   -8.910000  348.000000 -104.000000      -25.070002   88.290001   \n",
       " 99998  -28.710001  -49.600002  122.400002      232.170013  -58.860001   \n",
       " 99999    2.970000 -134.400009 -100.000000      343.350006   39.240002   \n",
       " \n",
       "               Time  \n",
       " 0        54.599998  \n",
       " 1        54.599998  \n",
       " 2        54.599998  \n",
       " 3        54.599998  \n",
       " 4        54.599998  \n",
       " ...            ...  \n",
       " 99995  2054.600098  \n",
       " 99996  2054.600098  \n",
       " 99997  2054.600098  \n",
       " 99998  2054.600098  \n",
       " 99999  2054.600098  \n",
       " \n",
       " [100000 rows x 12 columns],\n",
       " 'IND0_2':              FSC-A   FSC-H        SSC-A      FITC-A        PE-A    PE-Cy5-A  \\\n",
       " 0       452.800018   950.0   626.669983  -10.890000   -3.960000   26.730000   \n",
       " 1       408.800018   926.0   788.039978  495.989990 -437.580017   45.540001   \n",
       " 2       767.200012   875.0   906.840027  -48.510002  550.440002   41.580002   \n",
       " 3       706.400024   803.0   629.640015  -32.670002  369.269989   34.650002   \n",
       " 4      1659.200073  2090.0  2356.199951  -37.619999 -152.460007  122.760002   \n",
       " ...            ...     ...          ...         ...         ...         ...   \n",
       " 99995   637.600037   839.0   345.510010  -19.799999 -158.399994  -74.250000   \n",
       " 99996   641.600037   890.0   362.339996   44.549999 -645.479980  -81.180000   \n",
       " 99997  1402.400024   930.0   425.700012  -51.480000   66.330002  -25.740000   \n",
       " 99998   841.600037   858.0   478.170013   14.850000 -450.450012  -25.740000   \n",
       " 99999  1260.000000   824.0  1012.770020   36.630001    6.930000   31.680000   \n",
       " \n",
       "          PE-Cy7-A       APC-A   APC-Cy7-A  Pacific Blue-A    AmCyan-A  \\\n",
       " 0       10.890000  477.600006  -96.800003       51.230003  -68.670006   \n",
       " 1      -44.549999 -316.000000  -84.800003       92.650002   78.480003   \n",
       " 2      159.389999  387.200012   84.000000      -75.209999  143.880005   \n",
       " 3      108.900002 -265.600006  157.600006       52.320000   -4.360000   \n",
       " 4      -41.580002 -400.800018   99.200005      -23.980001  292.119995   \n",
       " ...           ...         ...         ...             ...         ...   \n",
       " 99995  -38.610001 -125.599998 -136.800003      154.779999   88.290001   \n",
       " 99996  -21.780001  484.800018  -10.400001      -21.800001  -17.440001   \n",
       " 99997  -62.369999 -184.800003   32.000000      166.770004  110.090004   \n",
       " 99998  -36.630001  204.000000  -33.600002       80.660004   97.010002   \n",
       " 99999  -47.520000   64.000000  -60.000000      183.120010  103.550003   \n",
       " \n",
       "               Time  \n",
       " 0        56.700001  \n",
       " 1        56.700001  \n",
       " 2        56.700001  \n",
       " 3        56.700001  \n",
       " 4        56.700001  \n",
       " ...            ...  \n",
       " 99995  1409.800049  \n",
       " 99996  1409.800049  \n",
       " 99997  1409.800049  \n",
       " 99998  1409.800049  \n",
       " 99999  1409.800049  \n",
       " \n",
       " [100000 rows x 12 columns],\n",
       " 'IND0_3':             FSC-A  FSC-H        SSC-A      FITC-A        PE-A    PE-Cy5-A  \\\n",
       " 0      216.000000  715.0   571.229980   82.169998  437.580017   23.760000   \n",
       " 1      594.400024  815.0   643.500000  -47.520000  135.630005  -82.169998   \n",
       " 2      194.400009  754.0   494.010010  -24.750000 -917.729980  125.730003   \n",
       " 3      265.600006  774.0   460.350006  152.460007 -186.119995  110.880005   \n",
       " 4      409.600006  804.0   530.640015   72.270004  287.100006   75.239998   \n",
       " ...           ...    ...          ...         ...         ...         ...   \n",
       " 99995  251.199997  747.0  1122.660034  248.490005 -555.390015  -65.340004   \n",
       " 99996  694.400024  959.0   556.380005  -12.870000  330.660004   25.740000   \n",
       " 99997  615.200012  751.0   943.470032  -45.540001  227.699997  -18.809999   \n",
       " 99998  156.800003  926.0  2492.820068   -0.990000  811.799988  155.430008   \n",
       " 99999  468.800018  848.0   604.890015  123.750000 -701.910034   -8.910000   \n",
       " \n",
       "         PE-Cy7-A       APC-A   APC-Cy7-A  Pacific Blue-A    AmCyan-A  \\\n",
       " 0     -24.750000  438.399994  -96.800003     -173.310013    7.630000   \n",
       " 1     -10.890000  248.800003 -113.599998      -51.230003   44.690002   \n",
       " 2     -18.809999 -312.000000  274.399994     -110.090004   91.560005   \n",
       " 3      -2.970000  188.000000  -79.200005      -55.590000   52.320000   \n",
       " 4      -9.900000  208.800003 -138.400009      -30.520000    7.630000   \n",
       " ...          ...         ...         ...             ...         ...   \n",
       " 99995 -75.239998 -224.800003   69.599998      177.669998   97.010002   \n",
       " 99996 -63.360001 -226.400009 -109.599998       62.130001   29.430000   \n",
       " 99997 -36.630001 -402.399994   37.600002      -61.040001    1.090000   \n",
       " 99998  48.510002 -223.199997  -80.000000      786.980042  513.390015   \n",
       " 99999  65.340004  109.599998  168.800003      132.980011  119.900002   \n",
       " \n",
       "               Time  \n",
       " 0        44.700001  \n",
       " 1        44.700001  \n",
       " 2        44.799999  \n",
       " 3        44.799999  \n",
       " 4        44.799999  \n",
       " ...            ...  \n",
       " 99995  1294.000000  \n",
       " 99996  1294.000000  \n",
       " 99997  1294.000000  \n",
       " 99998  1294.000000  \n",
       " 99999  1294.000000  \n",
       " \n",
       " [100000 rows x 12 columns]}"
      ]
     },
     "execution_count": 25,
     "metadata": {},
     "output_type": "execute_result"
    }
   ],
   "source": [
    "data"
   ]
  },
  {
   "cell_type": "code",
   "execution_count": 26,
   "id": "16dd6639",
   "metadata": {},
   "outputs": [],
   "source": [
    "checkDimensions(data,data[random.choice(list(data.keys()))].shape)"
   ]
  },
  {
   "cell_type": "code",
   "execution_count": 27,
   "id": "aa295cde",
   "metadata": {},
   "outputs": [
    {
     "data": {
      "text/plain": [
       "{'IND0':             FSC-A  FSC-H        SSC-A      FITC-A        PE-A    PE-Cy5-A  \\\n",
       " 0      650.400024  774.0  1487.969971  116.820000  -51.480000  216.809998   \n",
       " 1      368.800018  734.0   400.950012  -83.160004  556.380005   20.790001   \n",
       " 2      204.800003  755.0   427.679993  130.680008 -134.639999    4.950000   \n",
       " 3      496.800018  910.0   699.929993  347.489990 -103.950005  -15.840000   \n",
       " 4      237.600006  803.0   467.279999   68.309998 -214.830002    0.990000   \n",
       " ...           ...    ...          ...         ...         ...         ...   \n",
       " 99995  251.199997  747.0  1122.660034  248.490005 -555.390015  -65.340004   \n",
       " 99996  694.400024  959.0   556.380005  -12.870000  330.660004   25.740000   \n",
       " 99997  615.200012  751.0   943.470032  -45.540001  227.699997  -18.809999   \n",
       " 99998  156.800003  926.0  2492.820068   -0.990000  811.799988  155.430008   \n",
       " 99999  468.800018  848.0   604.890015  123.750000 -701.910034   -8.910000   \n",
       " \n",
       "          PE-Cy7-A       APC-A   APC-Cy7-A  Pacific Blue-A    AmCyan-A  \\\n",
       " 0      136.619995 -287.200012   46.400002     1276.390015  537.369995   \n",
       " 1      171.270004  -54.400002  -96.800003     -104.639999  103.550003   \n",
       " 2       -6.930000  -83.200005  -57.600002      -97.010002   56.680000   \n",
       " 3       75.239998  -31.200001  -21.600000     -107.910004   18.530001   \n",
       " 4      -17.820000  301.600006  -87.200005       59.950001   88.290001   \n",
       " ...           ...         ...         ...             ...         ...   \n",
       " 99995  -75.239998 -224.800003   69.599998      177.669998   97.010002   \n",
       " 99996  -63.360001 -226.400009 -109.599998       62.130001   29.430000   \n",
       " 99997  -36.630001 -402.399994   37.600002      -61.040001    1.090000   \n",
       " 99998   48.510002 -223.199997  -80.000000      786.980042  513.390015   \n",
       " 99999   65.340004  109.599998  168.800003      132.980011  119.900002   \n",
       " \n",
       "               Time  \n",
       " 0        54.599998  \n",
       " 1        54.599998  \n",
       " 2        54.599998  \n",
       " 3        54.599998  \n",
       " 4        54.599998  \n",
       " ...            ...  \n",
       " 99995  1294.000000  \n",
       " 99996  1294.000000  \n",
       " 99997  1294.000000  \n",
       " 99998  1294.000000  \n",
       " 99999  1294.000000  \n",
       " \n",
       " [300000 rows x 12 columns]}"
      ]
     },
     "execution_count": 27,
     "metadata": {},
     "output_type": "execute_result"
    }
   ],
   "source": [
    "#concatenating the dataframes of all triplicates -->\n",
    "def triplicates_combined(data = data):\n",
    "    deta = {}\n",
    "    for key in data.keys():\n",
    "        deta[key[:4]]= pd.concat([data[key[:4]+'_1'],data[key[:4]+'_2'],data[key[:4]+'_3']],axis=0)\n",
    "    return deta\n",
    "\n",
    "triplicates_combined()"
   ]
  },
  {
   "cell_type": "code",
   "execution_count": 28,
   "id": "5c20213f",
   "metadata": {},
   "outputs": [
    {
     "data": {
      "text/plain": [
       "dict_keys(['IND0_1', 'IND0_2', 'IND0_3'])"
      ]
     },
     "execution_count": 28,
     "metadata": {},
     "output_type": "execute_result"
    }
   ],
   "source": [
    "data.keys()"
   ]
  },
  {
   "cell_type": "code",
   "execution_count": 29,
   "id": "189388d0",
   "metadata": {},
   "outputs": [
    {
     "data": {
      "text/plain": [
       "dict_keys(['IND0_1'])"
      ]
     },
     "execution_count": 29,
     "metadata": {},
     "output_type": "execute_result"
    }
   ],
   "source": [
    "Day_1 = dict([(key,data[key]) for key in data.keys() if key.endswith('_1')])\n",
    "Day_1.keys()"
   ]
  },
  {
   "cell_type": "code",
   "execution_count": 30,
   "id": "5b77706a",
   "metadata": {},
   "outputs": [
    {
     "data": {
      "text/plain": [
       "{'IND0_1':             FSC-A  FSC-H        SSC-A      FITC-A        PE-A    PE-Cy5-A  \\\n",
       " 0      650.400024  774.0  1487.969971  116.820000  -51.480000  216.809998   \n",
       " 1      368.800018  734.0   400.950012  -83.160004  556.380005   20.790001   \n",
       " 2      204.800003  755.0   427.679993  130.680008 -134.639999    4.950000   \n",
       " 3      496.800018  910.0   699.929993  347.489990 -103.950005  -15.840000   \n",
       " 4      237.600006  803.0   467.279999   68.309998 -214.830002    0.990000   \n",
       " ...           ...    ...          ...         ...         ...         ...   \n",
       " 99995  231.199997  780.0   500.940002  -71.279999   10.890000  -35.639999   \n",
       " 99996  620.000000  759.0   667.260010 -155.430008  675.179993  -32.670002   \n",
       " 99997  508.800018  848.0   837.539978  146.520004  257.399994  -23.760000   \n",
       " 99998  199.199997  775.0   418.769989   17.820000 -128.699997  -73.260002   \n",
       " 99999  324.800018  722.0   723.690002  -44.549999  323.730011  -57.420002   \n",
       " \n",
       "          PE-Cy7-A       APC-A   APC-Cy7-A  Pacific Blue-A    AmCyan-A  \\\n",
       " 0      136.619995 -287.200012   46.400002     1276.390015  537.369995   \n",
       " 1      171.270004  -54.400002  -96.800003     -104.639999  103.550003   \n",
       " 2       -6.930000  -83.200005  -57.600002      -97.010002   56.680000   \n",
       " 3       75.239998  -31.200001  -21.600000     -107.910004   18.530001   \n",
       " 4      -17.820000  301.600006  -87.200005       59.950001   88.290001   \n",
       " ...           ...         ...         ...             ...         ...   \n",
       " 99995   -3.960000 -352.800018  -53.600002       50.140003   38.150002   \n",
       " 99996  -26.730000   -2.400000  -39.200001       32.700001  -33.790001   \n",
       " 99997   -8.910000  348.000000 -104.000000      -25.070002   88.290001   \n",
       " 99998  -28.710001  -49.600002  122.400002      232.170013  -58.860001   \n",
       " 99999    2.970000 -134.400009 -100.000000      343.350006   39.240002   \n",
       " \n",
       "               Time  \n",
       " 0        54.599998  \n",
       " 1        54.599998  \n",
       " 2        54.599998  \n",
       " 3        54.599998  \n",
       " 4        54.599998  \n",
       " ...            ...  \n",
       " 99995  2054.600098  \n",
       " 99996  2054.600098  \n",
       " 99997  2054.600098  \n",
       " 99998  2054.600098  \n",
       " 99999  2054.600098  \n",
       " \n",
       " [100000 rows x 12 columns]}"
      ]
     },
     "execution_count": 30,
     "metadata": {},
     "output_type": "execute_result"
    }
   ],
   "source": [
    "Day_1"
   ]
  },
  {
   "cell_type": "code",
   "execution_count": 39,
   "id": "5ea597da",
   "metadata": {},
   "outputs": [
    {
     "ename": "KeyError",
     "evalue": "'IND1_1'",
     "output_type": "error",
     "traceback": [
      "\u001b[1;31m---------------------------------------------------------------------------\u001b[0m",
      "\u001b[1;31mKeyError\u001b[0m                                  Traceback (most recent call last)",
      "\u001b[1;32m~\\AppData\\Local\\Temp/ipykernel_5112/604279308.py\u001b[0m in \u001b[0;36m<module>\u001b[1;34m\u001b[0m\n\u001b[0;32m     14\u001b[0m     \u001b[0mplt\u001b[0m\u001b[1;33m.\u001b[0m\u001b[0mshow\u001b[0m\u001b[1;33m(\u001b[0m\u001b[1;33m)\u001b[0m\u001b[1;33m\u001b[0m\u001b[1;33m\u001b[0m\u001b[0m\n\u001b[0;32m     15\u001b[0m \u001b[1;33m\u001b[0m\u001b[0m\n\u001b[1;32m---> 16\u001b[1;33m \u001b[0mplot_sample\u001b[0m\u001b[1;33m(\u001b[0m\u001b[0mdata\u001b[0m\u001b[1;33m,\u001b[0m\u001b[1;34m'IND1_1'\u001b[0m\u001b[1;33m)\u001b[0m\u001b[1;33m\u001b[0m\u001b[1;33m\u001b[0m\u001b[0m\n\u001b[0m",
      "\u001b[1;32m~\\AppData\\Local\\Temp/ipykernel_5112/604279308.py\u001b[0m in \u001b[0;36mplot_sample\u001b[1;34m(data, key)\u001b[0m\n\u001b[0;32m      5\u001b[0m     \u001b[0moriginal\u001b[0m \u001b[1;33m=\u001b[0m \u001b[0mpd\u001b[0m\u001b[1;33m.\u001b[0m\u001b[0mDataFrame\u001b[0m\u001b[1;33m(\u001b[0m\u001b[1;33m)\u001b[0m\u001b[1;33m\u001b[0m\u001b[1;33m\u001b[0m\u001b[0m\n\u001b[0;32m      6\u001b[0m     \u001b[1;32mfor\u001b[0m \u001b[0mday\u001b[0m \u001b[1;32min\u001b[0m \u001b[0mrange\u001b[0m\u001b[1;33m(\u001b[0m\u001b[1;36m1\u001b[0m\u001b[1;33m,\u001b[0m\u001b[1;36m3\u001b[0m\u001b[1;33m)\u001b[0m\u001b[1;33m:\u001b[0m\u001b[1;33m\u001b[0m\u001b[1;33m\u001b[0m\u001b[0m\n\u001b[1;32m----> 7\u001b[1;33m         \u001b[0ml\u001b[0m \u001b[1;33m=\u001b[0m \u001b[0mpd\u001b[0m\u001b[1;33m.\u001b[0m\u001b[0mconcat\u001b[0m\u001b[1;33m(\u001b[0m\u001b[1;33m[\u001b[0m\u001b[0mdata\u001b[0m\u001b[1;33m[\u001b[0m\u001b[0mkey\u001b[0m\u001b[1;33m+\u001b[0m\u001b[0mstr\u001b[0m\u001b[1;33m(\u001b[0m\u001b[0mday\u001b[0m\u001b[1;33m)\u001b[0m\u001b[1;33m+\u001b[0m\u001b[1;34m'_'\u001b[0m\u001b[1;33m+\u001b[0m\u001b[0mstr\u001b[0m\u001b[1;33m(\u001b[0m\u001b[0mi\u001b[0m\u001b[1;33m)\u001b[0m\u001b[1;33m]\u001b[0m \u001b[1;32mfor\u001b[0m \u001b[0mi\u001b[0m \u001b[1;32min\u001b[0m \u001b[0mrange\u001b[0m\u001b[1;33m(\u001b[0m\u001b[1;36m1\u001b[0m\u001b[1;33m,\u001b[0m\u001b[1;36m4\u001b[0m\u001b[1;33m)\u001b[0m\u001b[1;33m]\u001b[0m\u001b[1;33m,\u001b[0m \u001b[0maxis\u001b[0m \u001b[1;33m=\u001b[0m \u001b[1;36m0\u001b[0m\u001b[1;33m)\u001b[0m\u001b[1;33m\u001b[0m\u001b[1;33m\u001b[0m\u001b[0m\n\u001b[0m\u001b[0;32m      8\u001b[0m         \u001b[0moriginal\u001b[0m \u001b[1;33m=\u001b[0m \u001b[0mpd\u001b[0m\u001b[1;33m.\u001b[0m\u001b[0mconcat\u001b[0m\u001b[1;33m(\u001b[0m\u001b[1;33m[\u001b[0m\u001b[0moriginal\u001b[0m\u001b[1;33m,\u001b[0m \u001b[0ml\u001b[0m\u001b[1;33m]\u001b[0m\u001b[1;33m)\u001b[0m\u001b[1;33m\u001b[0m\u001b[1;33m\u001b[0m\u001b[0m\n\u001b[0;32m      9\u001b[0m     \u001b[0mplot\u001b[0m \u001b[1;33m=\u001b[0m \u001b[0moriginal\u001b[0m\u001b[1;33m\u001b[0m\u001b[1;33m\u001b[0m\u001b[0m\n",
      "\u001b[1;32m~\\AppData\\Local\\Temp/ipykernel_5112/604279308.py\u001b[0m in \u001b[0;36m<listcomp>\u001b[1;34m(.0)\u001b[0m\n\u001b[0;32m      5\u001b[0m     \u001b[0moriginal\u001b[0m \u001b[1;33m=\u001b[0m \u001b[0mpd\u001b[0m\u001b[1;33m.\u001b[0m\u001b[0mDataFrame\u001b[0m\u001b[1;33m(\u001b[0m\u001b[1;33m)\u001b[0m\u001b[1;33m\u001b[0m\u001b[1;33m\u001b[0m\u001b[0m\n\u001b[0;32m      6\u001b[0m     \u001b[1;32mfor\u001b[0m \u001b[0mday\u001b[0m \u001b[1;32min\u001b[0m \u001b[0mrange\u001b[0m\u001b[1;33m(\u001b[0m\u001b[1;36m1\u001b[0m\u001b[1;33m,\u001b[0m\u001b[1;36m3\u001b[0m\u001b[1;33m)\u001b[0m\u001b[1;33m:\u001b[0m\u001b[1;33m\u001b[0m\u001b[1;33m\u001b[0m\u001b[0m\n\u001b[1;32m----> 7\u001b[1;33m         \u001b[0ml\u001b[0m \u001b[1;33m=\u001b[0m \u001b[0mpd\u001b[0m\u001b[1;33m.\u001b[0m\u001b[0mconcat\u001b[0m\u001b[1;33m(\u001b[0m\u001b[1;33m[\u001b[0m\u001b[0mdata\u001b[0m\u001b[1;33m[\u001b[0m\u001b[0mkey\u001b[0m\u001b[1;33m+\u001b[0m\u001b[0mstr\u001b[0m\u001b[1;33m(\u001b[0m\u001b[0mday\u001b[0m\u001b[1;33m)\u001b[0m\u001b[1;33m+\u001b[0m\u001b[1;34m'_'\u001b[0m\u001b[1;33m+\u001b[0m\u001b[0mstr\u001b[0m\u001b[1;33m(\u001b[0m\u001b[0mi\u001b[0m\u001b[1;33m)\u001b[0m\u001b[1;33m]\u001b[0m \u001b[1;32mfor\u001b[0m \u001b[0mi\u001b[0m \u001b[1;32min\u001b[0m \u001b[0mrange\u001b[0m\u001b[1;33m(\u001b[0m\u001b[1;36m1\u001b[0m\u001b[1;33m,\u001b[0m\u001b[1;36m4\u001b[0m\u001b[1;33m)\u001b[0m\u001b[1;33m]\u001b[0m\u001b[1;33m,\u001b[0m \u001b[0maxis\u001b[0m \u001b[1;33m=\u001b[0m \u001b[1;36m0\u001b[0m\u001b[1;33m)\u001b[0m\u001b[1;33m\u001b[0m\u001b[1;33m\u001b[0m\u001b[0m\n\u001b[0m\u001b[0;32m      8\u001b[0m         \u001b[0moriginal\u001b[0m \u001b[1;33m=\u001b[0m \u001b[0mpd\u001b[0m\u001b[1;33m.\u001b[0m\u001b[0mconcat\u001b[0m\u001b[1;33m(\u001b[0m\u001b[1;33m[\u001b[0m\u001b[0moriginal\u001b[0m\u001b[1;33m,\u001b[0m \u001b[0ml\u001b[0m\u001b[1;33m]\u001b[0m\u001b[1;33m)\u001b[0m\u001b[1;33m\u001b[0m\u001b[1;33m\u001b[0m\u001b[0m\n\u001b[0;32m      9\u001b[0m     \u001b[0mplot\u001b[0m \u001b[1;33m=\u001b[0m \u001b[0moriginal\u001b[0m\u001b[1;33m\u001b[0m\u001b[1;33m\u001b[0m\u001b[0m\n",
      "\u001b[1;31mKeyError\u001b[0m: 'IND1_1'"
     ]
    }
   ],
   "source": [
    "# function to plot combined data for a particular sample\n",
    "\n",
    "def plot_sample(data, key):\n",
    "    key = key[:3]\n",
    "    original = pd.DataFrame()\n",
    "    for day in range(1,3):\n",
    "        l = pd.concat([data[key+str(day)+'_'+str(i)] for i in range(1,4)], axis = 0)\n",
    "        original = pd.concat([original, l])\n",
    "    plot = original\n",
    "    print(plot.shape)\n",
    "    plt.scatter(plot['FSC-A'],plot['FSC-H'], color = 'red')\n",
    "    plt.xlabel('FSC-A')\n",
    "    plt.ylabel('FSC-H')\n",
    "    plt.show()\n",
    "\n",
    "plot_sample(data,'IND1_1')"
   ]
  },
  {
   "cell_type": "code",
   "execution_count": 38,
   "id": "695cbaa0",
   "metadata": {},
   "outputs": [
    {
     "ename": "KeyError",
     "evalue": "'IND1_1'",
     "output_type": "error",
     "traceback": [
      "\u001b[1;31m---------------------------------------------------------------------------\u001b[0m",
      "\u001b[1;31mKeyError\u001b[0m                                  Traceback (most recent call last)",
      "\u001b[1;32m~\\AppData\\Local\\Temp/ipykernel_5112/3321707730.py\u001b[0m in \u001b[0;36m<module>\u001b[1;34m\u001b[0m\n\u001b[0;32m      9\u001b[0m \u001b[1;33m\u001b[0m\u001b[0m\n\u001b[0;32m     10\u001b[0m \u001b[1;33m\u001b[0m\u001b[0m\n\u001b[1;32m---> 11\u001b[1;33m \u001b[1;33m[\u001b[0m\u001b[0mplot_sample_data\u001b[0m\u001b[1;33m(\u001b[0m\u001b[0mdata\u001b[0m\u001b[1;33m,\u001b[0m \u001b[1;34m'IND'\u001b[0m\u001b[1;33m,\u001b[0m\u001b[0mi\u001b[0m\u001b[1;33m)\u001b[0m \u001b[1;32mfor\u001b[0m \u001b[0mi\u001b[0m \u001b[1;32min\u001b[0m \u001b[0mrange\u001b[0m\u001b[1;33m(\u001b[0m\u001b[1;36m1\u001b[0m\u001b[1;33m,\u001b[0m\u001b[1;36m6\u001b[0m\u001b[1;33m)\u001b[0m\u001b[1;33m]\u001b[0m\u001b[1;33m\u001b[0m\u001b[1;33m\u001b[0m\u001b[0m\n\u001b[0m",
      "\u001b[1;32m~\\AppData\\Local\\Temp/ipykernel_5112/3321707730.py\u001b[0m in \u001b[0;36m<listcomp>\u001b[1;34m(.0)\u001b[0m\n\u001b[0;32m      9\u001b[0m \u001b[1;33m\u001b[0m\u001b[0m\n\u001b[0;32m     10\u001b[0m \u001b[1;33m\u001b[0m\u001b[0m\n\u001b[1;32m---> 11\u001b[1;33m \u001b[1;33m[\u001b[0m\u001b[0mplot_sample_data\u001b[0m\u001b[1;33m(\u001b[0m\u001b[0mdata\u001b[0m\u001b[1;33m,\u001b[0m \u001b[1;34m'IND'\u001b[0m\u001b[1;33m,\u001b[0m\u001b[0mi\u001b[0m\u001b[1;33m)\u001b[0m \u001b[1;32mfor\u001b[0m \u001b[0mi\u001b[0m \u001b[1;32min\u001b[0m \u001b[0mrange\u001b[0m\u001b[1;33m(\u001b[0m\u001b[1;36m1\u001b[0m\u001b[1;33m,\u001b[0m\u001b[1;36m6\u001b[0m\u001b[1;33m)\u001b[0m\u001b[1;33m]\u001b[0m\u001b[1;33m\u001b[0m\u001b[1;33m\u001b[0m\u001b[0m\n\u001b[0m",
      "\u001b[1;32m~\\AppData\\Local\\Temp/ipykernel_5112/3321707730.py\u001b[0m in \u001b[0;36mplot_sample_data\u001b[1;34m(data, key, day)\u001b[0m\n\u001b[0;32m      1\u001b[0m \u001b[1;32mdef\u001b[0m \u001b[0mplot_sample_data\u001b[0m\u001b[1;33m(\u001b[0m\u001b[0mdata\u001b[0m\u001b[1;33m,\u001b[0m \u001b[0mkey\u001b[0m\u001b[1;33m,\u001b[0m \u001b[0mday\u001b[0m \u001b[1;33m=\u001b[0m \u001b[1;36m1\u001b[0m\u001b[1;33m)\u001b[0m\u001b[1;33m:\u001b[0m\u001b[1;33m\u001b[0m\u001b[1;33m\u001b[0m\u001b[0m\n\u001b[0;32m      2\u001b[0m     \u001b[0mkey\u001b[0m \u001b[1;33m=\u001b[0m \u001b[0mkey\u001b[0m\u001b[1;33m[\u001b[0m\u001b[1;33m:\u001b[0m\u001b[1;36m3\u001b[0m\u001b[1;33m]\u001b[0m\u001b[1;33m\u001b[0m\u001b[1;33m\u001b[0m\u001b[0m\n\u001b[1;32m----> 3\u001b[1;33m     \u001b[0mplot\u001b[0m \u001b[1;33m=\u001b[0m \u001b[0mpd\u001b[0m\u001b[1;33m.\u001b[0m\u001b[0mconcat\u001b[0m\u001b[1;33m(\u001b[0m\u001b[1;33m[\u001b[0m\u001b[0mdata\u001b[0m\u001b[1;33m[\u001b[0m\u001b[0mkey\u001b[0m\u001b[1;33m+\u001b[0m\u001b[0mstr\u001b[0m\u001b[1;33m(\u001b[0m\u001b[0mday\u001b[0m\u001b[1;33m)\u001b[0m\u001b[1;33m+\u001b[0m\u001b[1;34m'_'\u001b[0m\u001b[1;33m+\u001b[0m\u001b[0mstr\u001b[0m\u001b[1;33m(\u001b[0m\u001b[0mi\u001b[0m\u001b[1;33m)\u001b[0m\u001b[1;33m]\u001b[0m \u001b[1;32mfor\u001b[0m \u001b[0mi\u001b[0m \u001b[1;32min\u001b[0m \u001b[0mrange\u001b[0m\u001b[1;33m(\u001b[0m\u001b[1;36m1\u001b[0m\u001b[1;33m,\u001b[0m\u001b[1;36m4\u001b[0m\u001b[1;33m)\u001b[0m\u001b[1;33m]\u001b[0m\u001b[1;33m)\u001b[0m\u001b[1;33m\u001b[0m\u001b[1;33m\u001b[0m\u001b[0m\n\u001b[0m\u001b[0;32m      4\u001b[0m     \u001b[0mplt\u001b[0m\u001b[1;33m.\u001b[0m\u001b[0mscatter\u001b[0m\u001b[1;33m(\u001b[0m\u001b[0mplot\u001b[0m\u001b[1;33m[\u001b[0m\u001b[1;34m'FSC-A'\u001b[0m\u001b[1;33m]\u001b[0m\u001b[1;33m,\u001b[0m\u001b[0mplot\u001b[0m\u001b[1;33m[\u001b[0m\u001b[1;34m'FSC-H'\u001b[0m\u001b[1;33m]\u001b[0m\u001b[1;33m,\u001b[0m \u001b[0mcolor\u001b[0m \u001b[1;33m=\u001b[0m \u001b[1;34m'red'\u001b[0m\u001b[1;33m)\u001b[0m\u001b[1;33m\u001b[0m\u001b[1;33m\u001b[0m\u001b[0m\n\u001b[0;32m      5\u001b[0m     \u001b[0mplt\u001b[0m\u001b[1;33m.\u001b[0m\u001b[0mxlabel\u001b[0m\u001b[1;33m(\u001b[0m\u001b[1;34m'FSC-A'\u001b[0m\u001b[1;33m)\u001b[0m\u001b[1;33m\u001b[0m\u001b[1;33m\u001b[0m\u001b[0m\n",
      "\u001b[1;32m~\\AppData\\Local\\Temp/ipykernel_5112/3321707730.py\u001b[0m in \u001b[0;36m<listcomp>\u001b[1;34m(.0)\u001b[0m\n\u001b[0;32m      1\u001b[0m \u001b[1;32mdef\u001b[0m \u001b[0mplot_sample_data\u001b[0m\u001b[1;33m(\u001b[0m\u001b[0mdata\u001b[0m\u001b[1;33m,\u001b[0m \u001b[0mkey\u001b[0m\u001b[1;33m,\u001b[0m \u001b[0mday\u001b[0m \u001b[1;33m=\u001b[0m \u001b[1;36m1\u001b[0m\u001b[1;33m)\u001b[0m\u001b[1;33m:\u001b[0m\u001b[1;33m\u001b[0m\u001b[1;33m\u001b[0m\u001b[0m\n\u001b[0;32m      2\u001b[0m     \u001b[0mkey\u001b[0m \u001b[1;33m=\u001b[0m \u001b[0mkey\u001b[0m\u001b[1;33m[\u001b[0m\u001b[1;33m:\u001b[0m\u001b[1;36m3\u001b[0m\u001b[1;33m]\u001b[0m\u001b[1;33m\u001b[0m\u001b[1;33m\u001b[0m\u001b[0m\n\u001b[1;32m----> 3\u001b[1;33m     \u001b[0mplot\u001b[0m \u001b[1;33m=\u001b[0m \u001b[0mpd\u001b[0m\u001b[1;33m.\u001b[0m\u001b[0mconcat\u001b[0m\u001b[1;33m(\u001b[0m\u001b[1;33m[\u001b[0m\u001b[0mdata\u001b[0m\u001b[1;33m[\u001b[0m\u001b[0mkey\u001b[0m\u001b[1;33m+\u001b[0m\u001b[0mstr\u001b[0m\u001b[1;33m(\u001b[0m\u001b[0mday\u001b[0m\u001b[1;33m)\u001b[0m\u001b[1;33m+\u001b[0m\u001b[1;34m'_'\u001b[0m\u001b[1;33m+\u001b[0m\u001b[0mstr\u001b[0m\u001b[1;33m(\u001b[0m\u001b[0mi\u001b[0m\u001b[1;33m)\u001b[0m\u001b[1;33m]\u001b[0m \u001b[1;32mfor\u001b[0m \u001b[0mi\u001b[0m \u001b[1;32min\u001b[0m \u001b[0mrange\u001b[0m\u001b[1;33m(\u001b[0m\u001b[1;36m1\u001b[0m\u001b[1;33m,\u001b[0m\u001b[1;36m4\u001b[0m\u001b[1;33m)\u001b[0m\u001b[1;33m]\u001b[0m\u001b[1;33m)\u001b[0m\u001b[1;33m\u001b[0m\u001b[1;33m\u001b[0m\u001b[0m\n\u001b[0m\u001b[0;32m      4\u001b[0m     \u001b[0mplt\u001b[0m\u001b[1;33m.\u001b[0m\u001b[0mscatter\u001b[0m\u001b[1;33m(\u001b[0m\u001b[0mplot\u001b[0m\u001b[1;33m[\u001b[0m\u001b[1;34m'FSC-A'\u001b[0m\u001b[1;33m]\u001b[0m\u001b[1;33m,\u001b[0m\u001b[0mplot\u001b[0m\u001b[1;33m[\u001b[0m\u001b[1;34m'FSC-H'\u001b[0m\u001b[1;33m]\u001b[0m\u001b[1;33m,\u001b[0m \u001b[0mcolor\u001b[0m \u001b[1;33m=\u001b[0m \u001b[1;34m'red'\u001b[0m\u001b[1;33m)\u001b[0m\u001b[1;33m\u001b[0m\u001b[1;33m\u001b[0m\u001b[0m\n\u001b[0;32m      5\u001b[0m     \u001b[0mplt\u001b[0m\u001b[1;33m.\u001b[0m\u001b[0mxlabel\u001b[0m\u001b[1;33m(\u001b[0m\u001b[1;34m'FSC-A'\u001b[0m\u001b[1;33m)\u001b[0m\u001b[1;33m\u001b[0m\u001b[1;33m\u001b[0m\u001b[0m\n",
      "\u001b[1;31mKeyError\u001b[0m: 'IND1_1'"
     ]
    }
   ],
   "source": [
    "def plot_sample_data(data, key, day = 1):\n",
    "    key = key[:3]\n",
    "    plot = pd.concat([data[key+str(day)+'_'+str(i)] for i in range(1,4)])\n",
    "    plt.scatter(plot['FSC-A'],plot['FSC-H'], color = 'red')\n",
    "    plt.xlabel('FSC-A')\n",
    "    plt.ylabel('SSC-A')\n",
    "    plt.title(f'Data for {key}, Day: {day}')\n",
    "    plt.show()\n",
    "    \n",
    "\n",
    "[plot_sample_data(data, 'IND',i) for i in range(1,6)]"
   ]
  },
  {
   "cell_type": "code",
   "execution_count": 16,
   "id": "47c1c3e0",
   "metadata": {},
   "outputs": [
    {
     "name": "stdout",
     "output_type": "stream",
     "text": [
      "(1500000, 12)\n"
     ]
    },
    {
     "data": {
      "image/png": "[encoded data removed]",
      "text/plain": [
       "<Figure size 432x288 with 1 Axes>"
      ]
     },
     "metadata": {
      "needs_background": "light"
     },
     "output_type": "display_data"
    }
   ],
   "source": [
    "# function to plot combined data of all days(1-5) for a particular sample\n",
    "\n",
    "def plot_sample(data, key):\n",
    "    key = key[:3]\n",
    "    original = pd.DataFrame()\n",
    "    for day in range(1,6):\n",
    "        l = pd.concat([data[key+str(day)+'_'+str(i)] for i in range(1,4)], axis = 0)\n",
    "        original = pd.concat([original, l])\n",
    "    plot = original\n",
    "    print(plot.shape)\n",
    "    plt.scatter(plot['FSC-A'],plot['FSC-H'], color = 'red')\n",
    "    plt.xlabel('FSC-A')\n",
    "    plt.ylabel('SSC-A')\n",
    "    plt.show()\n",
    "\n",
    "plot_sample(data,'NCD')"
   ]
  },
  {
   "cell_type": "code",
   "execution_count": 23,
   "id": "b5fef1a7",
   "metadata": {},
   "outputs": [
    {
     "data": {
      "image/png": "[encoded data removed]",
      "text/plain": [
       "<Figure size 720x720 with 1 Axes>"
      ]
     },
     "metadata": {
      "needs_background": "light"
     },
     "output_type": "display_data"
    }
   ],
   "source": [
    "# Running Clustering with feature vector of size 3 in place of 3000 feature vector\n",
    "\n",
    "num_clusters = 8\n",
    "cols2 = random.choice(list(data.keys()))\n",
    "sample = data[cols2][['FSC-A','SSC-A']]\n",
    "kmean = KMeans(n_clusters = num_clusters).fit(sample)\n",
    "kmean.predict(sample)\n",
    "klabels = kmean.labels_\n",
    "\n",
    "#filter rows of original data\n",
    "\n",
    "cluster_count1 = np.zeros(num_clusters)\n",
    "for cluster in range(num_clusters):\n",
    "    filter_lb = sample[klabels == cluster]\n",
    "\n",
    "\n",
    "fig = plt.figure(figsize=(10,10))\n",
    "\n",
    "ax = fig.add_subplot(111)\n",
    "ax.scatter(sample['FSC-A'],sample['SSC-A'],c = klabels) \n",
    "plt.xlabel(\"FSC-A\")\n",
    "plt.ylabel(\"SSC-A\")\n",
    "\n",
    "plt.show()\n"
   ]
  },
  {
   "cell_type": "code",
   "execution_count": null,
   "id": "3ca7be49",
   "metadata": {},
   "outputs": [],
   "source": [
    "def elbow_curve(sample = sample):\n",
    "    wcss = []\n",
    "    for i in range(1,20):\n",
    "      kmeans = KMeans(n_clusters=i,init='k-means++',max_iter=300,n_init=10,random_state=0)\n",
    "      kmeans.fit(sample)\n",
    "      wcss.append(kmeans.inertia_)\n",
    "      print('Cluster', i, 'Inertia', kmeans.inertia_,)\n",
    "    plt.plot(range(1,20),wcss)\n",
    " \n",
    "    plt.title('The Elbow Curve')\n",
    "    plt.xlabel('Number of clusters')\n",
    "    plt.ylabel('WCSS') ##WCSS stands for total within-cluster sum of square\n",
    "    plt.show()\n",
    "\n",
    "elbow_curve()"
   ]
  },
  {
   "cell_type": "code",
   "execution_count": null,
   "id": "d76d7015",
   "metadata": {},
   "outputs": [],
   "source": [
    "num_clusters = 8\n",
    "cols2 = random.choice(list(data.keys()))\n",
    "sample = data[cols2][['FSC-A','AmCyan-A']]\n",
    "kmean = KMeans(n_clusters = num_clusters).fit(sample)\n",
    "kmean.predict(sample)\n",
    "klabels = kmean.labels_\n",
    "\n",
    "#filter rows of original data\n",
    "\n",
    "cluster_count1 = np.zeros(num_clusters)\n",
    "for cluster in range(num_clusters):\n",
    "    filter_lb = sample[klabels == cluster]\n",
    "\n",
    "\n",
    "fig = plt.figure(figsize=(10,10))\n",
    "\n",
    "ax = fig.add_subplot(111)\n",
    "ax.scatter(sample['FSC-A'],sample['AmCyan-A'],c = klabels) \n",
    "plt.xlabel(\"FSC-A\")\n",
    "plt.ylabel(\"AmCyan-A\")\n",
    "plt.show()"
   ]
  },
  {
   "cell_type": "code",
   "execution_count": null,
   "id": "5b7983d2",
   "metadata": {},
   "outputs": [],
   "source": [
    "num_clusters = 8\n",
    "cols2 = random.choice(list(data.keys()))\n",
    "sample = data[cols2][['SSC-A','AmCyan-A']]\n",
    "kmean = KMeans(n_clusters = num_clusters).fit(sample)\n",
    "kmean.predict(sample)\n",
    "klabels = kmean.labels_\n",
    "\n",
    "#filter rows of original data\n",
    "\n",
    "cluster_count1 = np.zeros(num_clusters)\n",
    "for cluster in range(num_clusters):\n",
    "    filter_lb = sample[klabels == cluster]\n",
    "\n",
    "\n",
    "fig = plt.figure(figsize=(10,10))\n",
    "\n",
    "ax = fig.add_subplot(111)\n",
    "ax.scatter(sample['SSC-A'],sample['AmCyan-A'],c = klabels) \n",
    "plt.xlabel(\"SSC-A\")\n",
    "plt.ylabel(\"AmCyan-A\")\n",
    "plt.show()"
   ]
  },
  {
   "cell_type": "code",
   "execution_count": null,
   "id": "34ceb7fc",
   "metadata": {},
   "outputs": [],
   "source": [
    "num_clusters = 8\n",
    "cols2 = random.choice(list(data.keys()))\n",
    "sample = data[cols2][['FSC-A','SSC-A','AmCyan-A']]\n",
    "kmean = KMeans(n_clusters = num_clusters).fit(sample)\n",
    "kmean.predict(sample)\n",
    "klabels = kmean.labels_\n",
    "\n",
    "#filter rows of original data\n",
    "\n",
    "cluster_count1 = np.zeros(num_clusters)\n",
    "for cluster in range(num_clusters):\n",
    "    filter_lb = sample[klabels == cluster]\n",
    "\n",
    "\n",
    "fig = plt.figure(figsize=(10,10))\n",
    "\n",
    "ax = fig.add_subplot(111, )\n",
    "ax.scatter(sample['FSC-A'],sample['SSC-A'],sample['AmCyan-A'],c = klabels) \n",
    "\n",
    "plt.show()"
   ]
  },
  {
   "cell_type": "code",
   "execution_count": null,
   "id": "8d37c80a",
   "metadata": {},
   "outputs": [],
   "source": [
    "num_clusters = 8\n",
    "cols2 = random.choice(list(data.keys()))\n",
    "sample = data[cols2][['FSC-A','SSC-A','AmCyan-A']]\n",
    "kmean = KMeans(n_clusters = num_clusters).fit(sample)\n",
    "kmean.predict(sample)\n",
    "klabels = kmean.labels_\n",
    "\n",
    "#filter rows of original data\n",
    "\n",
    "cluster_count1 = np.zeros(num_clusters)\n",
    "for cluster in range(num_clusters):\n",
    "    filter_lb = sample[klabels == cluster]\n",
    "\n",
    "\n",
    "fig = plt.figure(figsize=(10,10))\n",
    "\n",
    "ax = fig.add_subplot(111, projection='3d' )\n",
    "ax.scatter(sample['FSC-A'],sample['SSC-A'],sample['AmCyan-A'],c = klabels) \n",
    "plt.xlabel(\"FSC-A\", )\n",
    "plt.ylabel(\"SSC-A\",)\n",
    "\n",
    "plt.show()"
   ]
  },
  {
   "cell_type": "code",
   "execution_count": null,
   "id": "319f8f94",
   "metadata": {},
   "outputs": [],
   "source": []
  },
  {
   "cell_type": "code",
   "execution_count": null,
   "id": "22d9314c",
   "metadata": {},
   "outputs": [],
   "source": []
  },
  {
   "cell_type": "code",
   "execution_count": null,
   "id": "d9df1e03",
   "metadata": {},
   "outputs": [],
   "source": []
  }
 ],
 "metadata": {
  "kernelspec": {
   "display_name": "Python 3 (ipykernel)",
   "language": "python",
   "name": "python3"
  },
  "language_info": {
   "codemirror_mode": {
    "name": "ipython",
    "version": 3
   },
   "file_extension": ".py",
   "mimetype": "text/x-python",
   "name": "python",
   "nbconvert_exporter": "python",
   "pygments_lexer": "ipython3",
   "version": "3.9.7"
  }
 },
 "nbformat": 4,
 "nbformat_minor": 5
}
